{
 "cells": [
  {
   "cell_type": "markdown",
   "metadata": {},
   "source": [
    "### Advent of Code: Hot Springs\n",
    "Link to Puzzle: https://adventofcode.com/2023/day/12\n",
    "\n",
    "> Since the puzzles should not be shared, please go to the website and check the detailed description there.\n",
    "\n",
    "#### General Problem\n",
    "\n",
    "There are two sets of instructions, a pattern and a number of arrangements.\n",
    "\n",
    "**For example:**\n",
    "\n",
    "> `###.##...##.# 3,2,2,1`\n",
    "\n",
    "The number of arrangements `3,2,2,1` describes the number of consecutive blocks of `#` symbols, while `.` are used to separate these patterns. There can be multiple `.` symbols. Some of the strings contain `?` symbols where we do not know if it should be `.` or `#` - that is the task: *Find the number of solutions that fit the described arrangement* `3,2,2,1` in the pattern `###.##...##.#`. For this example, there is only 1 valid arrangement, as there are no `?` symbols.\n",
    "\n",
    "**Another example with `?`:**\n",
    "\n",
    "> `?????...##..# 3,2,1`\n",
    "\n",
    "Here it could be possible to have the following three arrangements in the `?` symbols that would work:\n",
    "\n",
    "- `###..`\n",
    "- `.###.`\n",
    "- `..###`\n",
    "\n",
    "Thus, our number of solutions that fulfil `3,2,1` is `3`.\n",
    "\n"
   ]
  },
  {
   "cell_type": "markdown",
   "metadata": {},
   "source": []
  },
  {
   "cell_type": "code",
   "execution_count": null,
   "metadata": {},
   "outputs": [],
   "source": [
    "def calculate_arrangements(springs, groups):\n",
    "\ttotal = 0\n",
    "\n",
    "\t# base case, no input springs\n",
    "\t#\n",
    "\tif len(springs) == 0:\n",
    "\t\tif len(groups) == 0:\n",
    "\t\t\treturn 1 # 1 combination as the empty set\n",
    "\t\treturn 0\n",
    "\n",
    "\t# base case, no groups but there are springs left\n",
    "\t#\n",
    "\tif len(groups) == 0:\n",
    "\t\tif '#' in springs:\n",
    "\t\t\treturn 0\n",
    "\t\treturn 1\n",
    "\n",
    "\t# case when there are longer springs inputs than \n",
    "\t# there can be possibility to fill the groups\n",
    "\t#\n",
    "\tn_groups = sum(groups)\n",
    "\tmin_n_separators = len(groups)-1\n",
    "\tif len(springs) < n_groups + min_n_separators:\n",
    "\t\treturn 0\n",
    "\n",
    "\t# assume we treat start symbol as '.' or is already '.'\n",
    "\tif springs[0] in [\".\", \"?\"]:\n",
    "\t\ttotal += calculate_arrangements(springs[1:], groups)\n",
    "\n",
    "\tcur_n = groups[0]\n",
    "\t\n",
    "\tis_start_pat = springs[0] in ['#', '?']\n",
    "\thas_space = '.' not in springs[:n]\n",
    "\tall_or_extends = (len(springs) == cur_n or springs[cur_n] in ['.', '?'])\n",
    "\tif is_start_pat and has_space and all_or_extends:\n",
    "\t\ttotal += calculate_arrangements(springs[cur_n + 1:], groups[1:])\n",
    "\n",
    "\treturn total\n",
    "\n",
    "def calculate_for_lines(lines):\n",
    "\tcount = 0\n",
    "\tfor line in lines:\n",
    "\t\tsprings, groups = line.split(\" \")\n",
    "\t\tgroups = tuple(int(n) for n in groups.split(','))\n",
    "\t\tcount += calculate_arrangements(springs, groups)\n",
    "\treturn count\n",
    "\n",
    "def read_file(path):\n",
    "\twith open(path, 'r') as f:\n",
    "\t\tlines = f.readlines()\n",
    "\n"
   ]
  },
  {
   "cell_type": "code",
   "execution_count": null,
   "metadata": {},
   "outputs": [],
   "source": [
    "#ADD_PATH_TO_YOUR_TEXT_FILE\n",
    "lines = read_file()\n",
    "print(calculate_for_lines(lines))"
   ]
  }
 ],
 "metadata": {
  "language_info": {
   "name": "python"
  }
 },
 "nbformat": 4,
 "nbformat_minor": 2
}
