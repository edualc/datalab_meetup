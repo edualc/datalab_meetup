{
 "cells": [
  {
   "cell_type": "markdown",
   "metadata": {},
   "source": [
    "### Advent of Code: Hot Springs\n",
    "Link to Puzzle: https://adventofcode.com/2023/day/12\n",
    "\n",
    "> Since the puzzles should not be shared, please go to the website and check the detailed description there.\n",
    "\n",
    "#### General Problem\n",
    "\n",
    "There are two sets of instructions, a pattern and a number of arrangements.\n",
    "\n",
    "**For example:**\n",
    "\n",
    "> `###.##...##.# 3,2,2,1`\n",
    "\n",
    "The number of arrangements `3,2,2,1` describes the number of consecutive blocks of `#` symbols, while `.` are used to separate these patterns. There can be multiple `.` symbols. Some of the strings contain `?` symbols where we do not know if it should be `.` or `#` - that is the task: *Find the number of solutions that fit the described arrangement* `3,2,2,1` in the pattern `###.##...##.#`. For this example, there is only 1 valid arrangement, as there are no `?` symbols.\n",
    "\n",
    "**Another example with `?`:**\n",
    "\n",
    "> `?????...##..# 3,2,1`\n",
    "\n",
    "Here it could be possible to have the following three arrangements in the `?` symbols that would work:\n",
    "\n",
    "- `###..`\n",
    "- `.###.`\n",
    "- `..###`\n",
    "\n",
    "Thus, our number of solutions that fulfil `3,2,1` is `3`.\n",
    "\n"
   ]
  },
  {
   "cell_type": "markdown",
   "metadata": {},
   "source": []
  }
 ],
 "metadata": {
  "language_info": {
   "name": "python"
  }
 },
 "nbformat": 4,
 "nbformat_minor": 2
}
