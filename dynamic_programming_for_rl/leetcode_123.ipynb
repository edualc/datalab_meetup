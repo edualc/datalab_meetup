{
 "cells": [
  {
   "cell_type": "code",
   "execution_count": 1,
   "metadata": {},
   "outputs": [],
   "source": [
    "import matplotlib.pyplot as plt"
   ]
  },
  {
   "cell_type": "markdown",
   "metadata": {},
   "source": [
    "### 122. Best Time to Buy and Sell Stock - III\n",
    "Link to Leetcode: https://leetcode.com/problems/best-time-to-buy-and-sell-stock-iii/\n",
    "\n",
    "You are given an integer array `prices` where `prices[i]` is the price of a given stock on the `ith` day.\n",
    "\n",
    "Find the maximum profit you can achieve. You may complete **at most two transactions**.\n",
    "\n",
    "**Note**: You may not engage in multiple transactions simultaneously (i.e., you must sell the stock before you buy again).\n",
    "\n",
    " \n",
    "\n",
    "**Example 1**:\n",
    "\n",
    ">**Input**: prices = [3,3,5,0,0,3,1,4]\n",
    ">\n",
    ">**Output**: 6\n",
    ">\n",
    ">**Explanation**: Buy on day 4 (price = 0) and sell on day 6 (price = 3), profit = 3-0 = 3.\n",
    "Then buy on day 7 (price = 1) and sell on day 8 (price = 4), profit = 4-1 = 3.\n",
    "\n",
    "**Example 2**:\n",
    "\n",
    ">**Input**: prices = [1,2,3,4,5]\n",
    ">\n",
    ">**Output**: 4\n",
    ">\n",
    ">**Explanation**: Buy on day 1 (price = 1) and sell on day 5 (price = 5), profit = 5-1 = 4.\n",
    "Note that you cannot buy on day 1, buy on day 2 and sell them later, as you are engaging multiple transactions at the same time. You must sell before buying again.\n",
    "\n",
    "**Example 3**:\n",
    "\n",
    ">**Input**: prices = [7,6,4,3,1]\n",
    ">\n",
    ">**Output**: 0\n",
    ">\n",
    ">**Explanation**: In this case, no transaction is done, i.e. max profit = 0.\n",
    " \n",
    "\n",
    "**Constraints:**\n",
    "\n",
    "-`1 <= prices.length <= 10^5`\n",
    "-`0 <= prices[i] <= 10^5`"
   ]
  },
  {
   "cell_type": "code",
   "execution_count": 2,
   "metadata": {},
   "outputs": [
    {
     "data": {
      "image/png": "[encoded data removed]",
      "text/plain": [
       "<Figure size 1000x500 with 1 Axes>"
      ]
     },
     "metadata": {},
     "output_type": "display_data"
    }
   ],
   "source": [
    "prices = [50, 22, 77,  6, 94, 57, 54, 69, 94,  6, 21, 43, 93, 32, 78, 89, 80,\n",
    "       93,  3, 87, 90, 98, 25, 76, 32, 98, 30, 26, 28, 44, 73, 44, 10, 99,\n",
    "       37, 47, 70, 90, 68, 32, 35, 44, 40, 21, 34, 92, 55,  6, 53, 19, 80,\n",
    "       19, 66, 50, 89, 86,  4, 83, 53, 69, 67, 67, 50, 43, 80,  1, 75, 87,\n",
    "       75,  0,  6, 68, 26, 59, 61, 74, 72, 38, 12, 34, 92, 77, 27, 27, 61,\n",
    "       63, 49,  4, 27, 96, 63,  0, 72, 47, 30, 19, 47, 90, 39, 35]\n",
    "fig, ax = plt.subplots(figsize=(10, 5))\n",
    "ax.bar(range(len(prices)), prices)\n",
    "ax.set_xlabel('Days')\n",
    "ax.set_ylabel('Prices')\n",
    "ax.set_title('Stock Prices')\n",
    "\n",
    "ax.set_xlim(0, 100)\n",
    "ax.set_ylim(0, 100)\n",
    "plt.show()\n"
   ]
  },
  {
   "cell_type": "code",
   "execution_count": null,
   "metadata": {},
   "outputs": [],
   "source": [
    "def max_profit(prices):\n",
    "    # TODO\n",
    "\n",
    "    return max_profit\n",
    "\n",
    "print(max_profit(prices))"
   ]
  },
  {
   "cell_type": "code",
   "execution_count": null,
   "metadata": {},
   "outputs": [],
   "source": []
  }
 ],
 "metadata": {
  "kernelspec": {
   "display_name": "env",
   "language": "python",
   "name": "python3"
  },
  "language_info": {
   "codemirror_mode": {
    "name": "ipython",
    "version": 3
   },
   "file_extension": ".py",
   "mimetype": "text/x-python",
   "name": "python",
   "nbconvert_exporter": "python",
   "pygments_lexer": "ipython3",
   "version": "3.9.12"
  }
 },
 "nbformat": 4,
 "nbformat_minor": 2
}
