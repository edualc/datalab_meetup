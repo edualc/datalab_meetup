{
 "cells": [
  {
   "cell_type": "code",
   "execution_count": null,
   "metadata": {},
   "outputs": [],
   "source": [
    "import math\n",
    "import numpy as np"
   ]
  },
  {
   "cell_type": "code",
   "execution_count": null,
   "metadata": {},
   "outputs": [],
   "source": [
    "def fib(n):\n",
    "    if n <= 1:\n",
    "        return n\n",
    "    return fib(n-1) + fib(n-2)\n",
    "\n",
    "fib(0), fib(1), fib(2), fib(3), fib(4), fib(5), fib(6), fib(7)"
   ]
  },
  {
   "cell_type": "code",
   "execution_count": null,
   "metadata": {},
   "outputs": [],
   "source": [
    "# fib(100)"
   ]
  },
  {
   "cell_type": "code",
   "execution_count": null,
   "metadata": {},
   "outputs": [],
   "source": [
    "def fib2(n):\n",
    "    if n <= 1:\n",
    "        return n\n",
    "    a = [1, 1]\n",
    "    for i in range(2, n):\n",
    "        a.append(a[i - 1] + a[i - 2])\n",
    "    return a[-1]\n",
    "\n",
    "fib2(0), fib2(1), fib2(2), fib2(3), fib2(4), fib2(5), fib2(6), fib2(7)"
   ]
  },
  {
   "cell_type": "code",
   "execution_count": null,
   "metadata": {},
   "outputs": [],
   "source": [
    "fib2(1000)"
   ]
  },
  {
   "cell_type": "code",
   "execution_count": null,
   "metadata": {},
   "outputs": [],
   "source": [
    "def fib3(n):\n",
    "    if n <= 1:\n",
    "        return n\n",
    "    m1 = 1\n",
    "    m2 = 1\n",
    "#     a = 1\n",
    "    for _ in range(2, n):\n",
    "        m2, m1 = m1 + m2, m2\n",
    "#         m1 = m2\n",
    "#         m2 = a\n",
    "    return m2\n",
    "\n",
    "fib3(0), fib3(1), fib3(2), fib3(3), fib3(4), fib3(5), fib3(6), fib3(7)"
   ]
  },
  {
   "cell_type": "code",
   "execution_count": null,
   "metadata": {},
   "outputs": [],
   "source": [
    "import dis"
   ]
  },
  {
   "cell_type": "code",
   "execution_count": null,
   "metadata": {},
   "outputs": [],
   "source": [
    "dis.dis(fib3)"
   ]
  },
  {
   "cell_type": "code",
   "execution_count": null,
   "metadata": {},
   "outputs": [],
   "source": [
    "def fib4(n):\n",
    "    m1 = 1\n",
    "    m2 = 1\n",
    "    for _ in range(n):\n",
    "        yield m1\n",
    "        m2, m1 = m1 + m2, m2"
   ]
  },
  {
   "cell_type": "code",
   "execution_count": null,
   "metadata": {},
   "outputs": [],
   "source": [
    "dis.dis(fib4)"
   ]
  },
  {
   "cell_type": "code",
   "execution_count": null,
   "metadata": {},
   "outputs": [],
   "source": [
    "g = fib4(7)"
   ]
  },
  {
   "cell_type": "code",
   "execution_count": null,
   "metadata": {},
   "outputs": [],
   "source": [
    "next(g)"
   ]
  },
  {
   "cell_type": "code",
   "execution_count": null,
   "metadata": {},
   "outputs": [],
   "source": [
    "list(g)"
   ]
  },
  {
   "cell_type": "code",
   "execution_count": null,
   "metadata": {},
   "outputs": [],
   "source": [
    "g = fib4(10000)\n",
    "f = True\n",
    "while f:\n",
    "    try:\n",
    "        n = next(g)\n",
    "    except StopIteration:\n",
    "        f = False\n",
    "n"
   ]
  },
  {
   "cell_type": "code",
   "execution_count": null,
   "metadata": {},
   "outputs": [],
   "source": [
    "iter??"
   ]
  },
  {
   "cell_type": "code",
   "execution_count": null,
   "metadata": {},
   "outputs": [],
   "source": [
    "from functools import lru_cache\n",
    "\n",
    "# Function for nth Fibonacci number\n",
    "\n",
    "@lru_cache(None)\n",
    "def fib5(num: int) -> int:\n",
    "\n",
    "    # check if num is less than 0\n",
    "    # it will return none\n",
    "    if num < 0:\n",
    "        print(\"Incorrect input\")\n",
    "        return\n",
    "\n",
    "    # check if num between 1, 0\n",
    "    # it will return num\n",
    "    elif num < 2:\n",
    "        return num\n",
    "\n",
    "    # return the fibonacci of num - 1 & num - 2\n",
    "    return fib5(num - 1) + fib5(num - 2)\n",
    "\n",
    "\n",
    "# Driver Program\n",
    "print(fib5(9))"
   ]
  },
  {
   "cell_type": "code",
   "execution_count": null,
   "metadata": {},
   "outputs": [],
   "source": [
    "dis.dis(fib5)"
   ]
  }
 ],
 "metadata": {
  "kernelspec": {
   "display_name": "Python 3 (ipykernel)",
   "language": "python",
   "name": "python3"
  },
  "language_info": {
   "codemirror_mode": {
    "name": "ipython",
    "version": 3
   },
   "file_extension": ".py",
   "mimetype": "text/x-python",
   "name": "python",
   "nbconvert_exporter": "python",
   "pygments_lexer": "ipython3",
   "version": "3.9.7"
  }
 },
 "nbformat": 4,
 "nbformat_minor": 2
}
